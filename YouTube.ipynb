{
 "cells": [
  {
   "cell_type": "code",
   "execution_count": null,
   "metadata": {},
   "outputs": [],
   "source": [
    "#Test on the Spotify API\n",
    "\n",
    "import pandas as pd\n",
    "import numpy as np\n",
    "import requests\n",
    "import json\n",
    "import apikeys\n",
    "import spotipy as spot\n",
    "\n",
    "# Google API Key\n",
    "\n",
    "spotify_key = apikeys.SPOTIFY_KEY"
   ]
  },
  {
   "cell_type": "code",
   "execution_count": null,
   "metadata": {},
   "outputs": [],
   "source": [
    "artist_list = [\"Alessia Cara\"]\n",
    "artist = \"Alessia Cara\"\n",
    "\n",
    "\n",
    "#url =  \"https://api.spotify.com/v1/artists/\"\n",
    "\n",
    "#params = {'id': artist, 'Authorization': spotify_key}\n",
    "\n",
    "artist_data = spot.artist(artist)\n",
    "\n",
    "print(artist_data)\n",
    "\n",
    "spotify = spot.Spotify()\n",
    "name = \"U2\"\n",
    "results = spot.search(q='artist:' + name, type='artist')\n",
    "print results\n"
   ]
  },
  {
   "cell_type": "code",
   "execution_count": null,
   "metadata": {
    "collapsed": true
   },
   "outputs": [],
   "source": []
  }
 ],
 "metadata": {
  "kernelspec": {
   "display_name": "Python [conda env:PythonData]",
   "language": "python",
   "name": "conda-env-PythonData-py"
  },
  "language_info": {
   "codemirror_mode": {
    "name": "ipython",
    "version": 3
   },
   "file_extension": ".py",
   "mimetype": "text/x-python",
   "name": "python",
   "nbconvert_exporter": "python",
   "pygments_lexer": "ipython3",
   "version": "3.6.3"
  }
 },
 "nbformat": 4,
 "nbformat_minor": 2
}
