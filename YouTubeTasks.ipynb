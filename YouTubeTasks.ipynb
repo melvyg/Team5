{
 "cells": [
  {
   "cell_type": "code",
   "execution_count": null,
   "metadata": {
    "collapsed": true
   },
   "outputs": [],
   "source": [
    "Key Tasks for Record of the Year\n",
    "\n",
    "1.\t Collect nominee and winner list from the last 10 years - Jenny\n",
    "2.\tConvetrt the excel/csv file and store in a panda Data Frame\n",
    "3.\tRun APIs to collect pertinent data fields - Melvin\n",
    "4.\tPlot the pertinent data fields - Jenny\n",
    "5.\tRun APIs for current nominees - Gar\n",
    "6.\tUsing patterns from last winners and losers, determine winner - TEAM\n"
   ]
  }
 ],
 "metadata": {
  "kernelspec": {
   "display_name": "Python [conda env:PythonData]",
   "language": "python",
   "name": "conda-env-PythonData-py"
  },
  "language_info": {
   "codemirror_mode": {
    "name": "ipython",
    "version": 3
   },
   "file_extension": ".py",
   "mimetype": "text/x-python",
   "name": "python",
   "nbconvert_exporter": "python",
   "pygments_lexer": "ipython3",
   "version": "3.6.3"
  }
 },
 "nbformat": 4,
 "nbformat_minor": 2
}
